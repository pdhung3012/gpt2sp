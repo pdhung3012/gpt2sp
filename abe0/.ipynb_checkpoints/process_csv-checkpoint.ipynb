{
 "cells": [
  {
   "cell_type": "markdown",
   "id": "60745610",
   "metadata": {},
   "source": [
    "### Within repo"
   ]
  },
  {
   "cell_type": "code",
   "execution_count": 5,
   "id": "87b42cf6",
   "metadata": {},
   "outputs": [],
   "source": [
    "import pandas as pd\n",
    "\n",
    "train_file = [\"mesos\", \"usergrid\", \"appceleratorstudio\", \"appceleratorstudio\", \"titanium\", \"aptanastudio\", \"mule\", \"mulestudio\"]\n",
    "test_file = [\"usergrid\", \"mesos\", \"aptanastudio\", \"titanium\", \"appceleratorstudio\", \"titanium\", \"mulestudio\", \"mule\"]\n",
    "mae = [1.07, 1.14, 2.75, 1.99, 2.85, 3.41, 3.14, 2.31]\n",
    "\n",
    "df_gpt = pd.DataFrame(data={\"group\": [\"Within Repository\" for i in range(8)],\n",
    "                            \"approach\": [\"Deep-SE\" for i in range(8)],\n",
    "                            \"train_file\": train_file,\n",
    "                            \"test_file\": test_file,\n",
    "                            \"mae\": mae})\n",
    "\n",
    "df = pd.read_csv(\"./within_repo_abe0.csv\")\n",
    "df = df.append(df_gpt)\n",
    "df.to_csv(\"./within_repo_abe0.csv\", index=False)"
   ]
  },
  {
   "cell_type": "markdown",
   "id": "d7d91c9a",
   "metadata": {},
   "source": [
    "### Cross repo"
   ]
  },
  {
   "cell_type": "code",
   "execution_count": 4,
   "id": "ca4f3058",
   "metadata": {},
   "outputs": [],
   "source": [
    "import pandas as pd\n",
    "\n",
    "train_file = [\"clover\", \"talendesb\", \"talenddataquality\", \"mule\", \"talenddataquality\", \"mulestudio\", \"appceleratorstudio\", \"appceleratorstudio\"]\n",
    "test_file = [\"usergrid\", \"mesos\", \"aptanastudio\", \"titanium\", \"appceleratorstudio\", \"titanium\", \"mulestudio\", \"mule\"]\n",
    "mae = [1.57, 2.08, 5.37, 6.36, 5.55, 2.67, 4.24, 2.7]\n",
    "\n",
    "df = pd.read_csv(\"./cross_repo_abe0.csv\")\n",
    "df_gpt = pd.DataFrame(data={\"group\": [\"Cross Repository\" for i in range(8)],\n",
    "                            \"approach\": [\"Deep-SE\" for i in range(8)],\n",
    "                            \"train_file\": train_file,\n",
    "                            \"test_file\": test_file,\n",
    "                            \"mae\": mae})\n",
    "df = df.append(df_gpt)\n",
    "df.to_csv(\"./cross_repo_abe0.csv\", index=False)"
   ]
  },
  {
   "cell_type": "code",
   "execution_count": null,
   "id": "40db60a1",
   "metadata": {},
   "outputs": [],
   "source": []
  }
 ],
 "metadata": {
  "kernelspec": {
   "display_name": "Python 3",
   "language": "python",
   "name": "python3"
  },
  "language_info": {
   "codemirror_mode": {
    "name": "ipython",
    "version": 3
   },
   "file_extension": ".py",
   "mimetype": "text/x-python",
   "name": "python",
   "nbconvert_exporter": "python",
   "pygments_lexer": "ipython3",
   "version": "3.8.8"
  }
 },
 "nbformat": 4,
 "nbformat_minor": 5
}
