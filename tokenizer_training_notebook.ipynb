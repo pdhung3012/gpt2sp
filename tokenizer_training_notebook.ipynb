{
 "cells": [
  {
   "cell_type": "markdown",
   "id": "06fb71a1",
   "metadata": {},
   "source": [
    "## BPE"
   ]
  },
  {
   "cell_type": "code",
   "execution_count": 32,
   "id": "0a4e57c6",
   "metadata": {},
   "outputs": [
    {
     "name": "stdout",
     "output_type": "stream",
     "text": [
      "13981\n",
      "done\n"
     ]
    }
   ],
   "source": [
    "import pandas as pd\n",
    "import numpy as np\n",
    "\n",
    "FILE_NAMES = ['appceleratorstudio',\n",
    "             'aptanastudio',\n",
    "             'bamboo',\n",
    "             'clover',\n",
    "             'datamanagement',\n",
    "             'duracloud',\n",
    "             'jirasoftware',\n",
    "             'mesos',\n",
    "             'moodle',\n",
    "             'mule',\n",
    "             'mulestudio',\n",
    "             'springxd',\n",
    "             'talenddataquality',\n",
    "             'talendesb',\n",
    "             'titanium',\n",
    "             'usergrid']\n",
    "\n",
    "train_data = pd.DataFrame(columns=['text'])\n",
    "for file in FILE_NAMES:\n",
    "    avg_text_len = {}\n",
    "    file_name = 'dataset/' + file + '.csv'\n",
    "    data = pd.read_csv(file_name)\n",
    "    # some rows have no description, fill blank to avoid Null\n",
    "    data = data.fillna(\" \")\n",
    "    split_point = int(len(data) * 0.6)\n",
    "    data = data[:split_point]\n",
    "    d = {'text': (data['title'] + data['description']).tolist()}\n",
    "\n",
    "    parsed_df = pd.DataFrame(data=d)\n",
    "    train_data = train_data.append(parsed_df)\n",
    "\n",
    "print(len(train_data))\n",
    "\n",
    "# write df to .txt file\n",
    "np.savetxt('all_tokenizers/tokenizer_training_data.txt', train_data.values, fmt='%s', encoding='utf-8')\n",
    "\n",
    "print('done')"
   ]
  },
  {
   "cell_type": "code",
   "execution_count": 1,
   "id": "50e100af",
   "metadata": {},
   "outputs": [],
   "source": [
    "# Initialize a tokenizer\n",
    "from tokenizers import ByteLevelBPETokenizer\n",
    "\n",
    "tokenizer = ByteLevelBPETokenizer()\n",
    "# Customize training\n",
    "tokenizer.train(files=\"all_tokenizers/tokenizer_training_data.txt\", \n",
    "                vocab_size=50257,\n",
    "                min_frequency=2, \n",
    "                special_tokens=[\"<s>\",\n",
    "                                \"<pad>\",\n",
    "                                \"</s>\",\n",
    "                                \"<unk>\",\n",
    "                                \"<mask>\",\n",
    "                                ])\n",
    "\n",
    "# Save files to disk\n",
    "tokenizer.save_model(\".\", \"bbpe_\")\n",
    "tokenizer.save('config.json')"
   ]
  },
  {
   "cell_type": "markdown",
   "id": "7abcdeb0",
   "metadata": {},
   "source": [
    "## Word-level Tokenizer"
   ]
  },
  {
   "cell_type": "code",
   "execution_count": 2,
   "id": "96660aeb",
   "metadata": {},
   "outputs": [
    {
     "name": "stdout",
     "output_type": "stream",
     "text": [
      "done\n"
     ]
    }
   ],
   "source": [
    "from tokenizers import Tokenizer\n",
    "from tokenizers.models import WordLevel\n",
    "from tokenizers.pre_tokenizers import Whitespace\n",
    "from tokenizers.trainers import WordLevelTrainer\n",
    "\n",
    "tokenizer = Tokenizer(WordLevel(unk_token=\"[UNK]\"))\n",
    "tokenizer.pre_tokenizer = Whitespace()\n",
    "\n",
    "trainer = WordLevelTrainer(vocab_size=50257,\n",
    "                           special_tokens=[\"[UNK]\", \"[CLS]\", \"[SEP]\", \"[PAD]\", \"[MASK]\"],\n",
    "                           min_frequency=2)\n",
    "\n",
    "tokenizer.train(files=['all_tokenizers/tokenizer_training_data.txt'], trainer=trainer)\n",
    "\n",
    "# Save the files\n",
    "tokenizer.save(\"wordlevel.json\")\n",
    "\n",
    "print('done')"
   ]
  },
  {
   "cell_type": "code",
   "execution_count": 13,
   "id": "ef12ba1c",
   "metadata": {},
   "outputs": [
    {
     "data": {
      "text/plain": [
       "[2875,\n",
       " 348,\n",
       " 60,\n",
       " 133,\n",
       " 2875,\n",
       " 348,\n",
       " 60,\n",
       " 133,\n",
       " 2875,\n",
       " 348,\n",
       " 60,\n",
       " 133,\n",
       " 2875,\n",
       " 348,\n",
       " 60,\n",
       " 133,\n",
       " 2875,\n",
       " 348,\n",
       " 60,\n",
       " 133,\n",
       " 2875,\n",
       " 348,\n",
       " 60,\n",
       " 133,\n",
       " 2875,\n",
       " 348,\n",
       " 60,\n",
       " 133,\n",
       " 2875,\n",
       " 348,\n",
       " 60,\n",
       " 133]"
      ]
     },
     "execution_count": 13,
     "metadata": {},
     "output_type": "execute_result"
    }
   ],
   "source": [
    "tokenizer = Tokenizer.from_file('all_tokenizers/word_level/wordlevel.json')\n",
    "\n",
    "encoded = tokenizer.encode(\"hello how are you hello how are you hello how are you hello how are you hello how are you hello how are you hello how are you hello how are you\",)\n",
    "encoded.ids"
   ]
  },
  {
   "cell_type": "markdown",
   "id": "36b85587",
   "metadata": {},
   "source": [
    "## SentencePiece"
   ]
  },
  {
   "cell_type": "code",
   "execution_count": 15,
   "id": "4eb5ec3b",
   "metadata": {},
   "outputs": [
    {
     "data": {
      "text/plain": [
       "PreTrainedTokenizer(name_or_path='', vocab_size=41783, model_max_len=1000000000000000019884624838656, is_fast=False, padding_side='left', special_tokens={'bos_token': '<s>', 'eos_token': '</s>', 'unk_token': '<unk>', 'sep_token': '<sep>', 'pad_token': '<pad>', 'cls_token': '<cls>', 'mask_token': AddedToken(\"<mask>\", rstrip=False, lstrip=True, single_word=False, normalized=True), 'additional_special_tokens': ['<eop>', '<eod>']})"
      ]
     },
     "execution_count": 15,
     "metadata": {},
     "output_type": "execute_result"
    }
   ],
   "source": [
    "from transformers import XLNetTokenizer\n",
    "import sentencepiece as spm\n",
    "\n",
    "spm.SentencePieceTrainer.Train('--input=all_tokenizers/tokenizer_training_data.txt --model_prefix=spm_tokenizer --vocab_size=41783')\n",
    "XLNetTokenizer('spm_tokenizer.model')"
   ]
  },
  {
   "cell_type": "markdown",
   "id": "d9006855",
   "metadata": {},
   "source": [
    "## WordPiece"
   ]
  },
  {
   "cell_type": "code",
   "execution_count": 16,
   "id": "b5b7ab39",
   "metadata": {},
   "outputs": [
    {
     "data": {
      "text/plain": [
       "['./BERT-vocab.txt']"
      ]
     },
     "execution_count": 16,
     "metadata": {},
     "output_type": "execute_result"
    }
   ],
   "source": [
    "from tokenizers import BertWordPieceTokenizer\n",
    "\n",
    "# Initialize an empty tokenizer\n",
    "tokenizer = BertWordPieceTokenizer(\n",
    "    clean_text=True,\n",
    "    handle_chinese_chars=False,\n",
    "    strip_accents=True,\n",
    "    lowercase=False,\n",
    ")\n",
    "\n",
    "# And then train\n",
    "tokenizer.train('all_tokenizers/tokenizer_training_data.txt',\n",
    "                vocab_size=50257,\n",
    "                min_frequency=2,\n",
    "                show_progress=True,\n",
    "                special_tokens=[\"[PAD]\", \"[UNK]\", \"[CLS]\", \"[SEP]\", \"[MASK]\"],\n",
    "                limit_alphabet=1000,\n",
    "                wordpieces_prefix=\"##\",\n",
    "                )\n",
    "\n",
    "# Save the files\n",
    "tokenizer.save_model(\"./\", \"BERT\")"
   ]
  },
  {
   "cell_type": "code",
   "execution_count": 17,
   "id": "363d8d13",
   "metadata": {},
   "outputs": [
    {
     "data": {
      "text/plain": [
       "PreTrainedTokenizer(name_or_path='', vocab_size=50257, model_max_len=1000000000000000019884624838656, is_fast=False, padding_side='right', special_tokens={'unk_token': '[UNK]', 'sep_token': '[SEP]', 'pad_token': '[PAD]', 'cls_token': '[CLS]', 'mask_token': '[MASK]'})"
      ]
     },
     "execution_count": 17,
     "metadata": {},
     "output_type": "execute_result"
    }
   ],
   "source": [
    "from transformers import BertTokenizer\n",
    "BertTokenizer(\"all_tokenizers/word_piece/vocab.txt\")"
   ]
  }
 ],
 "metadata": {
  "kernelspec": {
   "display_name": "Python 3",
   "language": "python",
   "name": "python3"
  },
  "language_info": {
   "codemirror_mode": {
    "name": "ipython",
    "version": 3
   },
   "file_extension": ".py",
   "mimetype": "text/x-python",
   "name": "python",
   "nbconvert_exporter": "python",
   "pygments_lexer": "ipython3",
   "version": "3.8.8"
  }
 },
 "nbformat": 4,
 "nbformat_minor": 5
}
