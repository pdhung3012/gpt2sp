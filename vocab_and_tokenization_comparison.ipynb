{
 "cells": [
  {
   "cell_type": "markdown",
   "id": "793f0b05",
   "metadata": {},
   "source": [
    "### General Corpus vs. Story Point (SP) Corpus"
   ]
  },
  {
   "cell_type": "code",
   "execution_count": 2,
   "id": "b07b529b",
   "metadata": {},
   "outputs": [],
   "source": [
    "import json\n",
    "\n",
    "general_bpe_vocab = \"./all_tokenizers/general_bpe/vocab.json\"\n",
    "sp_bpe_vocab = \"./all_tokenizers/sp_bpe/sp_bpe_vocab.json\"\n",
    "\n",
    "with open(general_bpe_vocab, encoding=\"utf8\") as f:\n",
    "    general_vocab = json.load(f)\n",
    "\n",
    "with open(sp_bpe_vocab, encoding=\"utf8\") as f:\n",
    "    sp_vocab = json.load(f)\n",
    "    \n",
    "general_words = []\n",
    "sp_words = []\n",
    "for key, val in general_vocab.items():\n",
    "    general_words.append(key)\n",
    "for key, val in sp_vocab.items():\n",
    "    sp_words.append(key)\n",
    "    \n",
    "overlap = 0\n",
    "\n",
    "total = len(general_words)\n",
    "for word in general_words:\n",
    "    if word in sp_words:\n",
    "        overlap += 1"
   ]
  },
  {
   "cell_type": "code",
   "execution_count": 21,
   "id": "f068e3ba",
   "metadata": {},
   "outputs": [
    {
     "name": "stdout",
     "output_type": "stream",
     "text": [
      "Length of BPE vocab:  50257\n",
      "Length of Word-level vocab:  50257\n",
      "Number of overlapping words:  17818\n"
     ]
    }
   ],
   "source": [
    "print(\"Length of BPE vocab: \", len(general_words))\n",
    "print(\"Length of Word-level vocab: \", len(sp_words))\n",
    "print(\"Number of overlapping words: \", overlap)"
   ]
  },
  {
   "cell_type": "markdown",
   "id": "123b47ca",
   "metadata": {},
   "source": [
    "### BPE Tokenization vs Word-level Tokenization"
   ]
  },
  {
   "cell_type": "code",
   "execution_count": 20,
   "id": "c8ff9151",
   "metadata": {},
   "outputs": [],
   "source": [
    "import json\n",
    "\n",
    "sp_bpe_vocab = \"./all_tokenizers/sp_bpe/sp_bpe_vocab.json\"\n",
    "sp_wordlevel_vocab = \"./all_tokenizers/sp_word_level/wordlevel.json\"\n",
    "\n",
    "with open(sp_bpe_vocab, encoding=\"utf8\") as f:\n",
    "    bpe_vocab = json.load(f)\n",
    "\n",
    "with open(sp_wordlevel_vocab, encoding=\"utf8\") as f:\n",
    "    wordlevel_vocab = json.load(f)\n",
    "    wordlevel_vocab = wordlevel_vocab[\"model\"][\"vocab\"]\n",
    "\n",
    "bpe_words = []\n",
    "wordlevel_words = []\n",
    "for key, val in bpe_vocab.items():\n",
    "    bpe_words.append(key)\n",
    "for key, val in wordlevel_vocab.items():\n",
    "    wordlevel_words.append(key)\n",
    "\n",
    "bpe_wordlevel_overlap = 0\n",
    "\n",
    "total = len(wordlevel_words)\n",
    "for word in bpe_words:\n",
    "    if word in wordlevel_words:\n",
    "        bpe_wordlevel_overlap += 1"
   ]
  },
  {
   "cell_type": "code",
   "execution_count": 19,
   "id": "18ffeed9",
   "metadata": {},
   "outputs": [
    {
     "name": "stdout",
     "output_type": "stream",
     "text": [
      "Length of BPE vocab:  50257\n",
      "Length of Word-level vocab:  34321\n",
      "Number of overlapping words:  16621\n"
     ]
    }
   ],
   "source": [
    "print(\"Length of BPE vocab: \", len(bpe_words))\n",
    "print(\"Length of Word-level vocab: \", len(wordlevel_words))\n",
    "print(\"Number of overlapping words: \", bpe_wordlevel_overlap)"
   ]
  },
  {
   "cell_type": "markdown",
   "id": "c461aba8",
   "metadata": {},
   "source": [
    "### Plot the result"
   ]
  },
  {
   "cell_type": "code",
   "execution_count": 87,
   "id": "efc0a540",
   "metadata": {},
   "outputs": [
    {
     "data": {
      "image/png": "[encoded data removed]",
      "text/plain": [
       "<Figure size 662.4x360 with 1 Axes>"
      ]
     },
     "metadata": {
      "needs_background": "light"
     },
     "output_type": "display_data"
    }
   ],
   "source": [
    "import numpy as np\n",
    "import matplotlib.pyplot as plt\n",
    "\n",
    "\n",
    "category_names = ['Overlapping', 'Non Overlapping']\n",
    "results = {'General Vocab': [overlap, len(general_words)-overlap],\n",
    "           'SP Vocab': [overlap, len(sp_words)-overlap]}\n",
    "\n",
    "\n",
    "def stack(results, category_names):\n",
    "    \"\"\"\n",
    "    Parameters\n",
    "    ----------\n",
    "    results : dict\n",
    "        A mapping from question labels to a list of answers per category.\n",
    "        It is assumed all lists contain the same number of entries and that\n",
    "        it matches the length of *category_names*.\n",
    "    category_names : list of str\n",
    "        The category labels.\n",
    "    \"\"\"\n",
    "    labels = list(results.keys())\n",
    "    data = np.array(list(results.values()))\n",
    "    data_cum = data.cumsum(axis=1)\n",
    "    category_colors = plt.get_cmap('RdYlGn')(\n",
    "        np.linspace(0.15, 0.85, data.shape[1]))\n",
    "\n",
    "    fig, ax = plt.subplots(figsize=(9.2, 5))\n",
    "    ax.invert_yaxis()\n",
    "    ax.xaxis.set_visible(False)\n",
    "    ax.set_xlim(0, np.sum(data, axis=1).max())\n",
    "\n",
    "    for i, (colname, color) in enumerate(zip(category_names, category_colors)):\n",
    "        widths = data[:, i]\n",
    "        starts = data_cum[:, i] - widths\n",
    "        ax.barh(labels, widths, left=starts, height=0.5,\n",
    "                label=colname, color=color)\n",
    "        xcenters = starts + widths / 2\n",
    "\n",
    "        r, g, b, _ = color\n",
    "        text_color = 'white' if r * g * b < 0.5 else 'darkgrey'\n",
    "        for y, (x, c) in enumerate(zip(xcenters, widths)):\n",
    "            ax.text(x, y, str(int(c)), ha='center', va='center',\n",
    "                    color=text_color)\n",
    "    ax.legend(ncol=len(category_names), bbox_to_anchor=(0, 1),\n",
    "              loc='lower left', fontsize='small')\n",
    "\n",
    "    return fig, ax\n",
    "\n",
    "\n",
    "fig, ax = stack(results, category_names)\n",
    "plt.tight_layout()\n",
    "fig.savefig('./corpus_tokenization_comparison/corpus_comparison.png', dpi=100)"
   ]
  },
  {
   "cell_type": "code",
   "execution_count": 86,
   "id": "f9e496d3",
   "metadata": {},
   "outputs": [
    {
     "data": {
      "image/png": "[encoded data removed]",
      "text/plain": [
       "<Figure size 662.4x360 with 1 Axes>"
      ]
     },
     "metadata": {
      "needs_background": "light"
     },
     "output_type": "display_data"
    }
   ],
   "source": [
    "tok_results = {'BPE Vocab': [bpe_wordlevel_overlap, len(bpe_words)-bpe_wordlevel_overlap],\n",
    "               'Wordlevel Vocab': [bpe_wordlevel_overlap, len(wordlevel_words)-bpe_wordlevel_overlap]}\n",
    "fig, ax = stack(tok_results, category_names)\n",
    "plt.tight_layout()\n",
    "fig.savefig('./corpus_tokenization_comparison/tokenization_comparison.png', dpi=100)"
   ]
  },
  {
   "cell_type": "code",
   "execution_count": null,
   "id": "bfb29691",
   "metadata": {},
   "outputs": [],
   "source": []
  }
 ],
 "metadata": {
  "kernelspec": {
   "display_name": "Python 3",
   "language": "python",
   "name": "python3"
  },
  "language_info": {
   "codemirror_mode": {
    "name": "ipython",
    "version": 3
   },
   "file_extension": ".py",
   "mimetype": "text/x-python",
   "name": "python",
   "nbconvert_exporter": "python",
   "pygments_lexer": "ipython3",
   "version": "3.8.8"
  }
 },
 "nbformat": 4,
 "nbformat_minor": 5
}
